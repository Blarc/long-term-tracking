{
  "nbformat": 4,
  "nbformat_minor": 0,
  "metadata": {
    "colab": {
      "name": "NMRV - Long Term Tracking.ipynb",
      "provenance": [],
      "collapsed_sections": [],
      "authorship_tag": "ABX9TyMGJF/x+9eGzQDBvRL0hCvh",
      "include_colab_link": true
    },
    "kernelspec": {
      "name": "python3",
      "display_name": "Python 3"
    },
    "language_info": {
      "name": "python"
    },
    "accelerator": "GPU"
  },
  "cells": [
    {
      "cell_type": "markdown",
      "metadata": {
        "id": "view-in-github",
        "colab_type": "text"
      },
      "source": [
        "<a href=\"https://colab.research.google.com/github/Blarc/long-term-tracking/blob/main/NMRV_Long_Term_Tracking.ipynb\" target=\"_parent\"><img src=\"https://colab.research.google.com/assets/colab-badge.svg\" alt=\"Open In Colab\"/></a>"
      ]
    },
    {
      "cell_type": "code",
      "execution_count": 3,
      "metadata": {
        "colab": {
          "base_uri": "https://localhost:8080/"
        },
        "id": "gagL7YSI4CdE",
        "outputId": "d63a5452-b93e-4c54-c0c2-5a7fe7cc974a"
      },
      "outputs": [
        {
          "output_type": "stream",
          "name": "stdout",
          "text": [
            "fatal: destination path 'long-term-tracking' already exists and is not an empty directory.\n"
          ]
        }
      ],
      "source": [
        "!git clone https://github.com/Blarc/long-term-tracking.git"
      ]
    },
    {
      "cell_type": "code",
      "source": [
        "import os\n",
        "os.chdir(\"long-term-tracking\")\n",
        "!ls -la"
      ],
      "metadata": {
        "colab": {
          "base_uri": "https://localhost:8080/"
        },
        "id": "_zemp4Us4IqI",
        "outputId": "49c48626-6c12-41a6-fc37-64e0fe6a814b"
      },
      "execution_count": 4,
      "outputs": [
        {
          "output_type": "stream",
          "name": "stdout",
          "text": [
            "total 5164\n",
            "drwxr-xr-x 7 root root    4096 May 15 17:08 .\n",
            "drwxr-xr-x 1 root root    4096 May 15 17:08 ..\n",
            "drwxr-xr-x 8 root root    4096 May 15 17:08 .git\n",
            "-rw-r--r-- 1 root root    1814 May 15 17:08 .gitignore\n",
            "-rw-r--r-- 1 root root   20120 May 15 17:08 NMRV_Long_Term_Tracking.ipynb\n",
            "-rw-r--r-- 1 root root    4003 May 15 17:08 performance_evaluation.py\n",
            "-rw-r--r-- 1 root root     146 May 15 17:08 README.md\n",
            "-rw-r--r-- 1 root root 5214563 May 15 17:08 report.pdf\n",
            "drwxr-xr-x 2 root root    4096 May 15 17:08 results\n",
            "drwxr-xr-x 2 root root    4096 May 15 17:08 results_long\n",
            "-rw-r--r-- 1 root root    2870 May 15 17:08 run_tracker.py\n",
            "-rw-r--r-- 1 root root    1799 May 15 17:08 show_tracking.py\n",
            "drwxr-xr-x 2 root root    4096 May 15 17:08 siamfc\n",
            "drwxr-xr-x 2 root root    4096 May 15 17:08 tools\n"
          ]
        }
      ]
    },
    {
      "cell_type": "code",
      "source": [
        "!wget http://box.vicos.si/alanl/dataset-lt.zip"
      ],
      "metadata": {
        "colab": {
          "base_uri": "https://localhost:8080/"
        },
        "id": "40zSSXD54f48",
        "outputId": "d206bcb3-1c26-4601-e30d-d77d41f57148"
      },
      "execution_count": 5,
      "outputs": [
        {
          "output_type": "stream",
          "name": "stdout",
          "text": [
            "--2022-05-15 17:10:04--  http://box.vicos.si/alanl/dataset-lt.zip\n",
            "Resolving box.vicos.si (box.vicos.si)... 212.235.189.20\n",
            "Connecting to box.vicos.si (box.vicos.si)|212.235.189.20|:80... connected.\n",
            "HTTP request sent, awaiting response... 301 Moved Permanently\n",
            "Location: https://box.vicos.si/alanl/dataset-lt.zip [following]\n",
            "--2022-05-15 17:10:04--  https://box.vicos.si/alanl/dataset-lt.zip\n",
            "Connecting to box.vicos.si (box.vicos.si)|212.235.189.20|:443... connected.\n",
            "HTTP request sent, awaiting response... 200 OK\n",
            "Length: 2063030746 (1.9G) [application/zip]\n",
            "Saving to: ‘dataset-lt.zip’\n",
            "\n",
            "dataset-lt.zip      100%[===================>]   1.92G  23.0MB/s    in 86s     \n",
            "\n",
            "2022-05-15 17:11:31 (22.9 MB/s) - ‘dataset-lt.zip’ saved [2063030746/2063030746]\n",
            "\n"
          ]
        }
      ]
    },
    {
      "cell_type": "code",
      "source": [
        "!mkdir dataset\n",
        "!unzip -q dataset-lt.zip -d dataset"
      ],
      "metadata": {
        "id": "M-kJ_9NT4n5C"
      },
      "execution_count": 6,
      "outputs": []
    },
    {
      "cell_type": "code",
      "source": [
        "!pip install opencv-python\n",
        "!pip install got10k"
      ],
      "metadata": {
        "colab": {
          "base_uri": "https://localhost:8080/"
        },
        "id": "_4CwnDMu4S2j",
        "outputId": "f54db4d4-978e-4d9e-9b90-bd639ce71ca0"
      },
      "execution_count": 7,
      "outputs": [
        {
          "output_type": "stream",
          "name": "stdout",
          "text": [
            "Requirement already satisfied: opencv-python in /usr/local/lib/python3.7/dist-packages (4.1.2.30)\n",
            "Requirement already satisfied: numpy>=1.14.5 in /usr/local/lib/python3.7/dist-packages (from opencv-python) (1.21.6)\n",
            "Collecting got10k\n",
            "  Downloading got10k-0.1.3.tar.gz (31 kB)\n",
            "Requirement already satisfied: numpy in /usr/local/lib/python3.7/dist-packages (from got10k) (1.21.6)\n",
            "Requirement already satisfied: matplotlib in /usr/local/lib/python3.7/dist-packages (from got10k) (3.2.2)\n",
            "Requirement already satisfied: Pillow in /usr/local/lib/python3.7/dist-packages (from got10k) (7.1.2)\n",
            "Requirement already satisfied: Shapely in /usr/local/lib/python3.7/dist-packages (from got10k) (1.8.1.post1)\n",
            "Collecting fire\n",
            "  Downloading fire-0.4.0.tar.gz (87 kB)\n",
            "\u001b[K     |████████████████████████████████| 87 kB 3.8 MB/s \n",
            "\u001b[?25hCollecting wget\n",
            "  Downloading wget-3.2.zip (10 kB)\n",
            "Requirement already satisfied: six in /usr/local/lib/python3.7/dist-packages (from fire->got10k) (1.15.0)\n",
            "Requirement already satisfied: termcolor in /usr/local/lib/python3.7/dist-packages (from fire->got10k) (1.1.0)\n",
            "Requirement already satisfied: kiwisolver>=1.0.1 in /usr/local/lib/python3.7/dist-packages (from matplotlib->got10k) (1.4.2)\n",
            "Requirement already satisfied: pyparsing!=2.0.4,!=2.1.2,!=2.1.6,>=2.0.1 in /usr/local/lib/python3.7/dist-packages (from matplotlib->got10k) (3.0.8)\n",
            "Requirement already satisfied: cycler>=0.10 in /usr/local/lib/python3.7/dist-packages (from matplotlib->got10k) (0.11.0)\n",
            "Requirement already satisfied: python-dateutil>=2.1 in /usr/local/lib/python3.7/dist-packages (from matplotlib->got10k) (2.8.2)\n",
            "Requirement already satisfied: typing-extensions in /usr/local/lib/python3.7/dist-packages (from kiwisolver>=1.0.1->matplotlib->got10k) (4.2.0)\n",
            "Building wheels for collected packages: got10k, fire, wget\n",
            "  Building wheel for got10k (setup.py) ... \u001b[?25l\u001b[?25hdone\n",
            "  Created wheel for got10k: filename=got10k-0.1.3-py3-none-any.whl size=43871 sha256=7a469324123226ee06d49ca45222237cf6a9c7494f713e27facf27eeec485796\n",
            "  Stored in directory: /root/.cache/pip/wheels/62/fe/c9/2a3cfd209474f1da9b4a1b2261488fbf55e975be561295874d\n",
            "  Building wheel for fire (setup.py) ... \u001b[?25l\u001b[?25hdone\n",
            "  Created wheel for fire: filename=fire-0.4.0-py2.py3-none-any.whl size=115942 sha256=191d70f4b84685258f9c3dd1a1f2d2fbd53da45bee3af9fdb23f51d35d7cef36\n",
            "  Stored in directory: /root/.cache/pip/wheels/8a/67/fb/2e8a12fa16661b9d5af1f654bd199366799740a85c64981226\n",
            "  Building wheel for wget (setup.py) ... \u001b[?25l\u001b[?25hdone\n",
            "  Created wheel for wget: filename=wget-3.2-py3-none-any.whl size=9675 sha256=46e6752af1c993ff6f82da77763b04d588bfbf180c97a6543bf7d1727db6d69c\n",
            "  Stored in directory: /root/.cache/pip/wheels/a1/b6/7c/0e63e34eb06634181c63adacca38b79ff8f35c37e3c13e3c02\n",
            "Successfully built got10k fire wget\n",
            "Installing collected packages: wget, fire, got10k\n",
            "Successfully installed fire-0.4.0 got10k-0.1.3 wget-3.2\n"
          ]
        }
      ]
    },
    {
      "cell_type": "code",
      "source": [
        "!python run_tracker.py --dataset dataset/ --net siamfc/siamfc_net.pth --results_dir results/"
      ],
      "metadata": {
        "colab": {
          "base_uri": "https://localhost:8080/"
        },
        "id": "wW-00Z3Y4YaV",
        "outputId": "bc22f381-7e84-409f-c754-81470b476c2d"
      },
      "execution_count": null,
      "outputs": [
        {
          "output_type": "stream",
          "name": "stdout",
          "text": [
            "Processing sequence: car9\n",
            "Processing sequence: cat1\n",
            "Processing sequence: deer\n",
            "Processing sequence: dog\n",
            "Processing sequence: person14\n",
            "Processing sequence: person20\n",
            "Processing sequence: sitcom\n",
            "Processing sequence: skiing\n",
            "Processing sequence: sup\n"
          ]
        }
      ]
    },
    {
      "cell_type": "code",
      "source": [
        "!python performance_evaluation.py --dataset dataset/ --results_dir results/"
      ],
      "metadata": {
        "colab": {
          "base_uri": "https://localhost:8080/"
        },
        "id": "dCm4VPRg7q8A",
        "outputId": "d1c5c527-65b0-4d6f-aa6d-b27bf6b37d58"
      },
      "execution_count": null,
      "outputs": [
        {
          "output_type": "stream",
          "name": "stdout",
          "text": [
            "----------car9-----------\n",
            "Precision: 0.6386934594221161\n",
            "Recall: 0.27124927121812065\n",
            "F-score: 0.38078250326398855\n",
            "----------cat1-----------\n",
            "Precision: 0.8407389837613889\n",
            "Recall: 0.41501933471130376\n",
            "F-score: 0.5557166989439247\n",
            "----------deer-----------\n",
            "Precision: 0.7183209887819186\n",
            "Recall: 0.20003875636964824\n",
            "F-score: 0.31293191590499425\n",
            "----------dog-----------\n",
            "Precision: 0.2046339951927455\n",
            "Recall: 0.07365848217903354\n",
            "F-score: 0.10832509473831575\n",
            "----------person14-----------\n",
            "Precision: 0.6705069565078281\n",
            "Recall: 0.038812707707732166\n",
            "F-score: 0.07337789104640059\n",
            "----------person20-----------\n",
            "Precision: 0.73394737657819\n",
            "Recall: 0.73394737657819\n",
            "F-score: 0.73394737657819\n",
            "----------sitcom-----------\n",
            "Precision: 0.5356951372588975\n",
            "Recall: 0.5018599522508812\n",
            "F-score: 0.5182258536899514\n",
            "----------skiing-----------\n",
            "Precision: 0.5549019936908361\n",
            "Recall: 0.11981999771685183\n",
            "F-score: 0.19708370696024397\n",
            "----------sup-----------\n",
            "Precision: 0.5429726001104008\n",
            "Recall: 0.47658124178442407\n",
            "F-score: 0.5076152830430442\n",
            "----------all-------------\n",
            "Precision: 0.6086213275745785\n",
            "Recall: 0.30829842749196357\n",
            "F-score: 0.409276814448603\n"
          ]
        }
      ]
    },
    {
      "cell_type": "code",
      "source": [
        "!rm -r results_long\n",
        "!mkdir results_long\n",
        "!python run_tracker.py --dataset dataset/ --net siamfc/siamfc_net.pth --results_dir results_long/ --long"
      ],
      "metadata": {
        "colab": {
          "base_uri": "https://localhost:8080/"
        },
        "id": "ye4CII6kV8nC",
        "outputId": "08bdb686-19d7-44eb-bfd0-fe526d2a0f99"
      },
      "execution_count": 10,
      "outputs": [
        {
          "output_type": "stream",
          "name": "stdout",
          "text": [
            "rm: cannot remove 'results_long': No such file or directory\n",
            "Processing sequence: car9\n",
            "Target lost\n",
            "Target found\n",
            "Processing sequence: cat1\n",
            "Target lost\n",
            "Target found\n",
            "Target lost\n",
            "Target found\n",
            "Processing sequence: deer\n",
            "Target lost\n",
            "Processing sequence: dog\n",
            "Target found\n",
            "Target lost\n",
            "Target found\n",
            "Target lost\n",
            "Target found\n",
            "Target lost\n",
            "Target found\n",
            "Target lost\n",
            "Target found\n",
            "Target lost\n",
            "Target found\n",
            "Target lost\n",
            "Target found\n",
            "Target lost\n",
            "Target found\n",
            "Target lost\n",
            "Target found\n",
            "Target lost\n",
            "Target found\n",
            "Target lost\n",
            "Processing sequence: person14\n",
            "Target found\n",
            "Target lost\n",
            "Target found\n",
            "Target lost\n",
            "Target found\n",
            "Target lost\n",
            "Processing sequence: person20\n",
            "Target found\n",
            "Processing sequence: sitcom\n",
            "Target lost\n",
            "Target found\n",
            "Target lost\n",
            "Target found\n",
            "Target lost\n",
            "Target found\n",
            "Target lost\n",
            "Target found\n",
            "Target lost\n",
            "Processing sequence: skiing\n",
            "Target found\n",
            "Target lost\n",
            "Target found\n",
            "Target lost\n",
            "Target found\n",
            "Target lost\n",
            "Target found\n",
            "Target lost\n",
            "Target found\n",
            "Target lost\n",
            "Target found\n",
            "Target lost\n",
            "Target found\n",
            "Target lost\n",
            "Target found\n",
            "Target lost\n",
            "Target found\n",
            "Target lost\n",
            "Target found\n",
            "Target lost\n",
            "Target found\n",
            "Target lost\n",
            "Target found\n",
            "Target lost\n",
            "Target found\n",
            "Target lost\n",
            "Target found\n",
            "Target lost\n",
            "Target found\n",
            "Target lost\n",
            "Target found\n",
            "Target lost\n",
            "Target found\n",
            "Target lost\n",
            "Target found\n",
            "Target lost\n",
            "Target found\n",
            "Target lost\n",
            "Target found\n",
            "Target lost\n",
            "Target found\n",
            "Target lost\n",
            "Target found\n",
            "Target lost\n",
            "Target found\n",
            "Target lost\n",
            "Target found\n",
            "Target lost\n",
            "Target found\n",
            "Target lost\n",
            "Target found\n",
            "Target lost\n",
            "Target found\n",
            "Target lost\n",
            "Target found\n",
            "Target lost\n",
            "Target found\n",
            "Target lost\n",
            "Target found\n",
            "Target lost\n",
            "Target found\n",
            "Target lost\n",
            "Target found\n",
            "Target lost\n",
            "Target found\n",
            "Target lost\n",
            "Target found\n",
            "Target lost\n",
            "Target found\n",
            "Target lost\n",
            "Target found\n",
            "Target lost\n",
            "Target found\n",
            "Target lost\n",
            "Target found\n",
            "Target lost\n",
            "Target found\n",
            "Target lost\n",
            "Target found\n",
            "Target lost\n",
            "Target found\n",
            "Target lost\n",
            "Target found\n",
            "Target lost\n",
            "Target found\n",
            "Target lost\n",
            "Target found\n",
            "Target lost\n",
            "Target found\n",
            "Target lost\n",
            "Target found\n",
            "Target lost\n",
            "Target found\n",
            "Target lost\n",
            "Target found\n",
            "Target lost\n",
            "Target found\n",
            "Target lost\n",
            "Target found\n",
            "Target lost\n",
            "Target found\n",
            "Target lost\n",
            "Target found\n",
            "Target lost\n",
            "Target found\n",
            "Target lost\n",
            "Target found\n",
            "Target lost\n",
            "Target found\n",
            "Target lost\n",
            "Target found\n",
            "Target lost\n",
            "Target found\n",
            "Target lost\n",
            "Target found\n",
            "Target lost\n",
            "Processing sequence: sup\n",
            "Target found\n",
            "Target lost\n",
            "Target found\n",
            "Target lost\n"
          ]
        }
      ]
    },
    {
      "cell_type": "code",
      "source": [
        "!python performance_evaluation.py --dataset dataset/ --results_dir results_long/"
      ],
      "metadata": {
        "colab": {
          "base_uri": "https://localhost:8080/"
        },
        "id": "3VwQXooGWG0i",
        "outputId": "f4c13496-7fef-41fc-ce76-452ced73ce93"
      },
      "execution_count": 11,
      "outputs": [
        {
          "output_type": "stream",
          "name": "stdout",
          "text": [
            "----------car9-----------\n",
            "Precision: 0.6049795660288109\n",
            "Recall: 0.5695629868573531\n",
            "F-score: 0.5867373093777228\n",
            "----------cat1-----------\n",
            "Precision: 0.8094912201913813\n",
            "Recall: 0.43491755557555123\n",
            "F-score: 0.5658300545631063\n",
            "----------deer-----------\n",
            "Precision: 0.17883505361918675\n",
            "Recall: 0.19974131081815347\n",
            "F-score: 0.18871092538078096\n",
            "----------dog-----------\n",
            "Precision: 0.6229705107892323\n",
            "Recall: 0.028958104792348102\n",
            "F-score: 0.055343621687426105\n",
            "----------person14-----------\n",
            "Precision: 0.7160067595370617\n",
            "Recall: 0.6892030402892272\n",
            "F-score: 0.7023492657133241\n",
            "----------person20-----------\n",
            "Precision: 0.7354407524317961\n",
            "Recall: 0.7354407524317961\n",
            "F-score: 0.7354407524317961\n",
            "----------sitcom-----------\n",
            "Precision: 0.7152661033326152\n",
            "Recall: 0.03508679506569097\n",
            "F-score: 0.06689224560506732\n",
            "----------skiing-----------\n",
            "Precision: 0.4249084931289385\n",
            "Recall: 0.05321137667176394\n",
            "F-score: 0.09457864986176046\n",
            "----------sup-----------\n",
            "Precision: 0.5350159419370508\n",
            "Recall: 0.48145696312318803\n",
            "F-score: 0.5068254143227539\n",
            "----------all-------------\n",
            "Precision: 0.6858577832295318\n",
            "Recall: 0.34008852280996194\n",
            "F-score: 0.45470675996033566\n"
          ]
        }
      ]
    },
    {
      "cell_type": "code",
      "source": [
        "!python performance_evaluation.py --dataset dataset/ --results_dir results/ --latex"
      ],
      "metadata": {
        "colab": {
          "base_uri": "https://localhost:8080/"
        },
        "id": "f2_6-mWEF6tH",
        "outputId": "ab9cee2f-c733-4616-cbba-69bae658dce1"
      },
      "execution_count": 12,
      "outputs": [
        {
          "output_type": "stream",
          "name": "stdout",
          "text": [
            "car9 & 0.6386934594221161 & 0.27124927121812065 & 0.38078250326398855 \\\\\n",
            "\\hline\n",
            "cat1 & 0.8407389837613889 & 0.41501933471130376 & 0.5557166989439247 \\\\\n",
            "\\hline\n",
            "deer & 0.7183209887819186 & 0.20003875636964824 & 0.31293191590499425 \\\\\n",
            "\\hline\n",
            "dog & 0.2046339951927455 & 0.07365848217903354 & 0.10832509473831575 \\\\\n",
            "\\hline\n",
            "person14 & 0.6705069565078281 & 0.038812707707732166 & 0.07337789104640059 \\\\\n",
            "\\hline\n",
            "person20 & 0.73394737657819 & 0.73394737657819 & 0.73394737657819 \\\\\n",
            "\\hline\n",
            "sitcom & 0.5356951372588975 & 0.5018599522508812 & 0.5182258536899514 \\\\\n",
            "\\hline\n",
            "skiing & 0.5549019936908361 & 0.11981999771685183 & 0.19708370696024397 \\\\\n",
            "\\hline\n",
            "sup & 0.5429726001104008 & 0.47658124178442407 & 0.5076152830430442 \\\\\n",
            "\\hline\n",
            "all & 0.6086213275745785 & 0.30829842749196357 & 0.409276814448603 \\\\\n",
            "\\hline\n"
          ]
        }
      ]
    },
    {
      "cell_type": "code",
      "source": [
        "!python performance_evaluation.py --dataset dataset/ --results_dir results_long/ --latex"
      ],
      "metadata": {
        "colab": {
          "base_uri": "https://localhost:8080/"
        },
        "id": "urzy9tjuWAr1",
        "outputId": "dc4cf9b4-006e-4f99-888e-e76899aa71bc"
      },
      "execution_count": 14,
      "outputs": [
        {
          "output_type": "stream",
          "name": "stdout",
          "text": [
            "car9 & 0.6 & 0.57 & 0.59 \\\\\n",
            "\\hline\n",
            "cat1 & 0.81 & 0.43 & 0.57 \\\\\n",
            "\\hline\n",
            "deer & 0.18 & 0.2 & 0.19 \\\\\n",
            "\\hline\n",
            "dog & 0.62 & 0.03 & 0.06 \\\\\n",
            "\\hline\n",
            "person14 & 0.72 & 0.69 & 0.7 \\\\\n",
            "\\hline\n",
            "person20 & 0.74 & 0.74 & 0.74 \\\\\n",
            "\\hline\n",
            "sitcom & 0.72 & 0.04 & 0.07 \\\\\n",
            "\\hline\n",
            "skiing & 0.42 & 0.05 & 0.09 \\\\\n",
            "\\hline\n",
            "sup & 0.54 & 0.48 & 0.51 \\\\\n",
            "\\hline\n",
            "all & 0.69 & 0.34 & 0.45 \\\\\n",
            "\\hline\n"
          ]
        }
      ]
    },
    {
      "cell_type": "code",
      "source": [
        "!rm -r results_test\n",
        "!mkdir results_test\n",
        "!python run_tracker.py --dataset dataset/ --net siamfc/siamfc_net.pth --results_dir results_test/ --long"
      ],
      "metadata": {
        "colab": {
          "base_uri": "https://localhost:8080/"
        },
        "id": "EyN0Cmwzlo1A",
        "outputId": "14a8de9a-b078-49dc-a89d-d155d9511528"
      },
      "execution_count": 31,
      "outputs": [
        {
          "output_type": "stream",
          "name": "stdout",
          "text": [
            "Processing sequence: car9\n"
          ]
        }
      ]
    },
    {
      "cell_type": "code",
      "source": [
        "!python performance_evaluation.py --dataset dataset/ --results_dir results_test/"
      ],
      "metadata": {
        "colab": {
          "base_uri": "https://localhost:8080/"
        },
        "id": "jheEOv-h5isy",
        "outputId": "bb2eb79d-626d-4c09-ca5c-9f2100ce4d45"
      },
      "execution_count": 32,
      "outputs": [
        {
          "output_type": "stream",
          "name": "stdout",
          "text": [
            "----------car9-----------\n",
            "Precision: 0.6009703637504912\n",
            "Recall: 0.5830595918664957\n",
            "F-score: 0.5918795100578851\n",
            "Avg-FPS: 0.030912196674285988\n",
            "----------all-----------\n",
            "Precision: 0.6009703637504912\n",
            "Recall: 0.5830595918664957\n",
            "F-score: 0.5918795100578851\n",
            "Avg-FPS: 0.030912196674285988\n"
          ]
        }
      ]
    }
  ]
}