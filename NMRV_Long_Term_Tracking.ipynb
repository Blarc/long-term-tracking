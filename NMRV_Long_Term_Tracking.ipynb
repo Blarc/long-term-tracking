{
  "nbformat": 4,
  "nbformat_minor": 0,
  "metadata": {
    "colab": {
      "name": "NMRV - Long Term Tracking.ipynb",
      "provenance": [],
      "collapsed_sections": [],
      "authorship_tag": "ABX9TyMb6HiVDxuVs0i+t3ia1X3r",
      "include_colab_link": true
    },
    "kernelspec": {
      "name": "python3",
      "display_name": "Python 3"
    },
    "language_info": {
      "name": "python"
    },
    "accelerator": "GPU"
  },
  "cells": [
    {
      "cell_type": "markdown",
      "metadata": {
        "id": "view-in-github",
        "colab_type": "text"
      },
      "source": [
        "<a href=\"https://colab.research.google.com/github/Blarc/long-term-tracking/blob/main/NMRV_Long_Term_Tracking.ipynb\" target=\"_parent\"><img src=\"https://colab.research.google.com/assets/colab-badge.svg\" alt=\"Open In Colab\"/></a>"
      ]
    },
    {
      "cell_type": "code",
      "execution_count": 1,
      "metadata": {
        "colab": {
          "base_uri": "https://localhost:8080/"
        },
        "id": "gagL7YSI4CdE",
        "outputId": "e7199ec8-b47b-4135-a1a5-dcfd4c28e5cf"
      },
      "outputs": [
        {
          "output_type": "stream",
          "name": "stdout",
          "text": [
            "Cloning into 'long-term-tracking'...\n",
            "remote: Enumerating objects: 41, done.\u001b[K\n",
            "remote: Counting objects: 100% (41/41), done.\u001b[K\n",
            "remote: Compressing objects: 100% (31/31), done.\u001b[K\n",
            "remote: Total 41 (delta 10), reused 32 (delta 7), pack-reused 0\u001b[K\n",
            "Unpacking objects: 100% (41/41), done.\n"
          ]
        }
      ],
      "source": [
        "!git clone https://github.com/Blarc/long-term-tracking.git"
      ]
    },
    {
      "cell_type": "code",
      "source": [
        "import os\n",
        "os.chdir(\"long-term-tracking\")\n",
        "!ls -la"
      ],
      "metadata": {
        "colab": {
          "base_uri": "https://localhost:8080/"
        },
        "id": "_zemp4Us4IqI",
        "outputId": "cc79bbae-8b32-4209-92a5-d8f281437fec"
      },
      "execution_count": 2,
      "outputs": [
        {
          "output_type": "stream",
          "name": "stdout",
          "text": [
            "total 60\n",
            "drwxr-xr-x 6 root root  4096 May 12 17:29 .\n",
            "drwxr-xr-x 1 root root  4096 May 12 17:29 ..\n",
            "drwxr-xr-x 8 root root  4096 May 12 17:29 .git\n",
            "-rw-r--r-- 1 root root  1814 May 12 17:29 .gitignore\n",
            "-rw-r--r-- 1 root root 13952 May 12 17:29 NMRV_Long_Term_Tracking.ipynb\n",
            "-rw-r--r-- 1 root root  4003 May 12 17:29 performance_evaluation.py\n",
            "-rw-r--r-- 1 root root    20 May 12 17:29 README.md\n",
            "drwxr-xr-x 2 root root  4096 May 12 17:29 results\n",
            "-rw-r--r-- 1 root root  2595 May 12 17:29 run_tracker.py\n",
            "-rw-r--r-- 1 root root  1830 May 12 17:29 show_tracking.py\n",
            "drwxr-xr-x 2 root root  4096 May 12 17:29 siamfc\n",
            "drwxr-xr-x 2 root root  4096 May 12 17:29 tools\n"
          ]
        }
      ]
    },
    {
      "cell_type": "code",
      "source": [
        "!wget http://box.vicos.si/alanl/dataset-lt.zip"
      ],
      "metadata": {
        "colab": {
          "base_uri": "https://localhost:8080/"
        },
        "id": "40zSSXD54f48",
        "outputId": "c8fc417d-db64-421a-ddcf-94a93e7b463b"
      },
      "execution_count": 3,
      "outputs": [
        {
          "output_type": "stream",
          "name": "stdout",
          "text": [
            "--2022-05-12 17:29:55--  http://box.vicos.si/alanl/dataset-lt.zip\n",
            "Resolving box.vicos.si (box.vicos.si)... 212.235.189.20\n",
            "Connecting to box.vicos.si (box.vicos.si)|212.235.189.20|:80... connected.\n",
            "HTTP request sent, awaiting response... 301 Moved Permanently\n",
            "Location: https://box.vicos.si/alanl/dataset-lt.zip [following]\n",
            "--2022-05-12 17:29:55--  https://box.vicos.si/alanl/dataset-lt.zip\n",
            "Connecting to box.vicos.si (box.vicos.si)|212.235.189.20|:443... connected.\n",
            "HTTP request sent, awaiting response... 200 OK\n",
            "Length: 2063030746 (1.9G) [application/zip]\n",
            "Saving to: ‘dataset-lt.zip’\n",
            "\n",
            "dataset-lt.zip      100%[===================>]   1.92G  91.5MB/s    in 23s     \n",
            "\n",
            "2022-05-12 17:30:17 (87.2 MB/s) - ‘dataset-lt.zip’ saved [2063030746/2063030746]\n",
            "\n"
          ]
        }
      ]
    },
    {
      "cell_type": "code",
      "source": [
        "!mkdir dataset\n",
        "!unzip -q dataset-lt.zip -d dataset"
      ],
      "metadata": {
        "id": "M-kJ_9NT4n5C"
      },
      "execution_count": 4,
      "outputs": []
    },
    {
      "cell_type": "code",
      "source": [
        "!pip install opencv-python\n",
        "!pip install got10k"
      ],
      "metadata": {
        "colab": {
          "base_uri": "https://localhost:8080/"
        },
        "id": "_4CwnDMu4S2j",
        "outputId": "139c7578-28fd-4407-ac90-952907f310d9"
      },
      "execution_count": 5,
      "outputs": [
        {
          "output_type": "stream",
          "name": "stdout",
          "text": [
            "Requirement already satisfied: opencv-python in /usr/local/lib/python3.7/dist-packages (4.1.2.30)\n",
            "Requirement already satisfied: numpy>=1.14.5 in /usr/local/lib/python3.7/dist-packages (from opencv-python) (1.21.6)\n",
            "Collecting got10k\n",
            "  Downloading got10k-0.1.3.tar.gz (31 kB)\n",
            "Requirement already satisfied: numpy in /usr/local/lib/python3.7/dist-packages (from got10k) (1.21.6)\n",
            "Requirement already satisfied: matplotlib in /usr/local/lib/python3.7/dist-packages (from got10k) (3.2.2)\n",
            "Requirement already satisfied: Pillow in /usr/local/lib/python3.7/dist-packages (from got10k) (7.1.2)\n",
            "Requirement already satisfied: Shapely in /usr/local/lib/python3.7/dist-packages (from got10k) (1.8.1.post1)\n",
            "Collecting fire\n",
            "  Downloading fire-0.4.0.tar.gz (87 kB)\n",
            "\u001b[K     |████████████████████████████████| 87 kB 5.3 MB/s \n",
            "\u001b[?25hCollecting wget\n",
            "  Downloading wget-3.2.zip (10 kB)\n",
            "Requirement already satisfied: six in /usr/local/lib/python3.7/dist-packages (from fire->got10k) (1.15.0)\n",
            "Requirement already satisfied: termcolor in /usr/local/lib/python3.7/dist-packages (from fire->got10k) (1.1.0)\n",
            "Requirement already satisfied: pyparsing!=2.0.4,!=2.1.2,!=2.1.6,>=2.0.1 in /usr/local/lib/python3.7/dist-packages (from matplotlib->got10k) (3.0.8)\n",
            "Requirement already satisfied: cycler>=0.10 in /usr/local/lib/python3.7/dist-packages (from matplotlib->got10k) (0.11.0)\n",
            "Requirement already satisfied: python-dateutil>=2.1 in /usr/local/lib/python3.7/dist-packages (from matplotlib->got10k) (2.8.2)\n",
            "Requirement already satisfied: kiwisolver>=1.0.1 in /usr/local/lib/python3.7/dist-packages (from matplotlib->got10k) (1.4.2)\n",
            "Requirement already satisfied: typing-extensions in /usr/local/lib/python3.7/dist-packages (from kiwisolver>=1.0.1->matplotlib->got10k) (4.2.0)\n",
            "Building wheels for collected packages: got10k, fire, wget\n",
            "  Building wheel for got10k (setup.py) ... \u001b[?25l\u001b[?25hdone\n",
            "  Created wheel for got10k: filename=got10k-0.1.3-py3-none-any.whl size=43871 sha256=a105b483386d728b6a224efe734af02e9c38817c600f085cdf4658928cc7657f\n",
            "  Stored in directory: /root/.cache/pip/wheels/62/fe/c9/2a3cfd209474f1da9b4a1b2261488fbf55e975be561295874d\n",
            "  Building wheel for fire (setup.py) ... \u001b[?25l\u001b[?25hdone\n",
            "  Created wheel for fire: filename=fire-0.4.0-py2.py3-none-any.whl size=115942 sha256=8c77f3e2ab00cdb8508a1cb10b001da9ac4bdaa23b5c28cf12cec0dd7cbc42ca\n",
            "  Stored in directory: /root/.cache/pip/wheels/8a/67/fb/2e8a12fa16661b9d5af1f654bd199366799740a85c64981226\n",
            "  Building wheel for wget (setup.py) ... \u001b[?25l\u001b[?25hdone\n",
            "  Created wheel for wget: filename=wget-3.2-py3-none-any.whl size=9675 sha256=db853d717e01168b39113a78c2e1c13227f91d12fdea0679185fa01e6389bac0\n",
            "  Stored in directory: /root/.cache/pip/wheels/a1/b6/7c/0e63e34eb06634181c63adacca38b79ff8f35c37e3c13e3c02\n",
            "Successfully built got10k fire wget\n",
            "Installing collected packages: wget, fire, got10k\n",
            "Successfully installed fire-0.4.0 got10k-0.1.3 wget-3.2\n"
          ]
        }
      ]
    },
    {
      "cell_type": "code",
      "source": [
        "!python run_tracker.py --dataset dataset/ --net siamfc/siamfc_net.pth --results_dir results/"
      ],
      "metadata": {
        "colab": {
          "base_uri": "https://localhost:8080/"
        },
        "id": "wW-00Z3Y4YaV",
        "outputId": "bc22f381-7e84-409f-c754-81470b476c2d"
      },
      "execution_count": 6,
      "outputs": [
        {
          "output_type": "stream",
          "name": "stdout",
          "text": [
            "Processing sequence: car9\n",
            "Processing sequence: cat1\n",
            "Processing sequence: deer\n",
            "Processing sequence: dog\n",
            "Processing sequence: person14\n",
            "Processing sequence: person20\n",
            "Processing sequence: sitcom\n",
            "Processing sequence: skiing\n",
            "Processing sequence: sup\n"
          ]
        }
      ]
    },
    {
      "cell_type": "code",
      "source": [
        "!python performance_evaluation.py --dataset dataset/ --results_dir results/"
      ],
      "metadata": {
        "colab": {
          "base_uri": "https://localhost:8080/"
        },
        "id": "dCm4VPRg7q8A",
        "outputId": "d1c5c527-65b0-4d6f-aa6d-b27bf6b37d58"
      },
      "execution_count": 7,
      "outputs": [
        {
          "output_type": "stream",
          "name": "stdout",
          "text": [
            "----------car9-----------\n",
            "Precision: 0.6386934594221161\n",
            "Recall: 0.27124927121812065\n",
            "F-score: 0.38078250326398855\n",
            "----------cat1-----------\n",
            "Precision: 0.8407389837613889\n",
            "Recall: 0.41501933471130376\n",
            "F-score: 0.5557166989439247\n",
            "----------deer-----------\n",
            "Precision: 0.7183209887819186\n",
            "Recall: 0.20003875636964824\n",
            "F-score: 0.31293191590499425\n",
            "----------dog-----------\n",
            "Precision: 0.2046339951927455\n",
            "Recall: 0.07365848217903354\n",
            "F-score: 0.10832509473831575\n",
            "----------person14-----------\n",
            "Precision: 0.6705069565078281\n",
            "Recall: 0.038812707707732166\n",
            "F-score: 0.07337789104640059\n",
            "----------person20-----------\n",
            "Precision: 0.73394737657819\n",
            "Recall: 0.73394737657819\n",
            "F-score: 0.73394737657819\n",
            "----------sitcom-----------\n",
            "Precision: 0.5356951372588975\n",
            "Recall: 0.5018599522508812\n",
            "F-score: 0.5182258536899514\n",
            "----------skiing-----------\n",
            "Precision: 0.5549019936908361\n",
            "Recall: 0.11981999771685183\n",
            "F-score: 0.19708370696024397\n",
            "----------sup-----------\n",
            "Precision: 0.5429726001104008\n",
            "Recall: 0.47658124178442407\n",
            "F-score: 0.5076152830430442\n",
            "----------all-------------\n",
            "Precision: 0.6086213275745785\n",
            "Recall: 0.30829842749196357\n",
            "F-score: 0.409276814448603\n"
          ]
        }
      ]
    },
    {
      "cell_type": "code",
      "source": [
        "!python run_tracker.py --dataset dataset/ --net siamfc/siamfc_net.pth --results_dir results_long/ --long"
      ],
      "metadata": {
        "colab": {
          "base_uri": "https://localhost:8080/"
        },
        "id": "ye4CII6kV8nC",
        "outputId": "73e23e9c-a26e-42f4-88d5-eb711934d46e"
      },
      "execution_count": 11,
      "outputs": [
        {
          "output_type": "stream",
          "name": "stdout",
          "text": [
            "Processing sequence: car9\n",
            "Target lost\n",
            "Target found\n",
            "Processing sequence: cat1\n",
            "Target lost\n",
            "Target found\n",
            "Processing sequence: deer\n",
            "Target lost\n",
            "Processing sequence: dog\n",
            "Target found\n",
            "Target lost\n",
            "Target found\n",
            "Target lost\n",
            "Target found\n",
            "Target lost\n",
            "Target found\n",
            "Target lost\n",
            "Target found\n",
            "Target lost\n",
            "Target found\n",
            "Target lost\n",
            "Processing sequence: person14\n",
            "Target found\n",
            "Target lost\n",
            "Target found\n",
            "Target lost\n",
            "Target found\n",
            "Target lost\n",
            "Target found\n",
            "Target lost\n",
            "Processing sequence: person20\n",
            "Target found\n",
            "Processing sequence: sitcom\n",
            "Target lost\n",
            "Target found\n",
            "Target lost\n",
            "Target found\n",
            "Target lost\n",
            "Target found\n",
            "Target lost\n",
            "Processing sequence: skiing\n",
            "Target found\n",
            "Target lost\n",
            "Target found\n",
            "Target lost\n",
            "Target found\n",
            "Target lost\n",
            "Processing sequence: sup\n",
            "Target found\n",
            "Target lost\n"
          ]
        }
      ]
    },
    {
      "cell_type": "code",
      "source": [
        "!python performance_evaluation.py --dataset dataset/ --results_dir results_long/"
      ],
      "metadata": {
        "colab": {
          "base_uri": "https://localhost:8080/"
        },
        "id": "3VwQXooGWG0i",
        "outputId": "bff7abe8-00ec-466b-d803-4721761341c0"
      },
      "execution_count": 12,
      "outputs": [
        {
          "output_type": "stream",
          "name": "stdout",
          "text": [
            "----------car9-----------\n",
            "Precision: 0.603540717288376\n",
            "Recall: 0.5839473251890727\n",
            "F-score: 0.5935823770788571\n",
            "----------cat1-----------\n",
            "Precision: 0.8095292075878092\n",
            "Recall: 0.43493796516763206\n",
            "F-score: 0.5658566075510293\n",
            "----------deer-----------\n",
            "Precision: 0.17883505361918675\n",
            "Recall: 0.19974131081815347\n",
            "F-score: 0.18871092538078096\n",
            "----------dog-----------\n",
            "Precision: 0.6079839782355317\n",
            "Recall: 0.03804428946050705\n",
            "F-score: 0.07160775963514394\n",
            "----------person14-----------\n",
            "Precision: 0.46496000575154367\n",
            "Recall: 0.03932417379666435\n",
            "F-score: 0.07251533486952806\n",
            "----------person20-----------\n",
            "Precision: 0.7354407524317961\n",
            "Recall: 0.7354407524317961\n",
            "F-score: 0.7354407524317961\n",
            "----------sitcom-----------\n",
            "Precision: 0.4737476788306932\n",
            "Recall: 0.03508679506569097\n",
            "F-score: 0.06533475451336725\n",
            "----------skiing-----------\n",
            "Precision: 0.6349924673318519\n",
            "Recall: 0.040637179078787944\n",
            "F-score: 0.07638593938479223\n",
            "----------sup-----------\n",
            "Precision: 0.7553635096509317\n",
            "Recall: 0.6630022939553226\n",
            "F-score: 0.7061757106599532\n",
            "----------all-------------\n",
            "Precision: 0.7122115088368645\n",
            "Recall: 0.28846544878384617\n",
            "F-score: 0.4106188534892157\n"
          ]
        }
      ]
    },
    {
      "cell_type": "code",
      "source": [
        "!python performance_evaluation.py --dataset dataset/ --results_dir results/ --latex"
      ],
      "metadata": {
        "colab": {
          "base_uri": "https://localhost:8080/"
        },
        "id": "f2_6-mWEF6tH",
        "outputId": "309e248b-9861-47ca-f2f8-047c495cd96a"
      },
      "execution_count": 8,
      "outputs": [
        {
          "output_type": "stream",
          "name": "stdout",
          "text": [
            "car9 & 0.6386934594221161 & 0.27124927121812065 & 0.38078250326398855 \\\\\n",
            "\\hline\n",
            "cat1 & 0.8407389837613889 & 0.41501933471130376 & 0.5557166989439247 \\\\\n",
            "\\hline\n",
            "deer & 0.7183209887819186 & 0.20003875636964824 & 0.31293191590499425 \\\\\n",
            "\\hline\n",
            "dog & 0.2046339951927455 & 0.07365848217903354 & 0.10832509473831575 \\\\\n",
            "\\hline\n",
            "person14 & 0.6705069565078281 & 0.038812707707732166 & 0.07337789104640059 \\\\\n",
            "\\hline\n",
            "person20 & 0.73394737657819 & 0.73394737657819 & 0.73394737657819 \\\\\n",
            "\\hline\n",
            "sitcom & 0.5356951372588975 & 0.5018599522508812 & 0.5182258536899514 \\\\\n",
            "\\hline\n",
            "skiing & 0.5549019936908361 & 0.11981999771685183 & 0.19708370696024397 \\\\\n",
            "\\hline\n",
            "sup & 0.5429726001104008 & 0.47658124178442407 & 0.5076152830430442 \\\\\n",
            "\\hline\n",
            "all & 0.6086213275745785 & 0.30829842749196357 & 0.409276814448603 \\\\\n",
            "\\hline\n"
          ]
        }
      ]
    },
    {
      "cell_type": "code",
      "source": [
        "!python performance_evaluation.py --dataset dataset/ --results_dir results_long/ --latex"
      ],
      "metadata": {
        "colab": {
          "base_uri": "https://localhost:8080/"
        },
        "id": "urzy9tjuWAr1",
        "outputId": "84237657-f655-4f3b-9670-ad822a9dfdad"
      },
      "execution_count": 13,
      "outputs": [
        {
          "output_type": "stream",
          "name": "stdout",
          "text": [
            "car9 & 0.603540717288376 & 0.5839473251890727 & 0.5935823770788571 \\\\\n",
            "\\hline\n",
            "cat1 & 0.8095292075878092 & 0.43493796516763206 & 0.5658566075510293 \\\\\n",
            "\\hline\n",
            "deer & 0.17883505361918675 & 0.19974131081815347 & 0.18871092538078096 \\\\\n",
            "\\hline\n",
            "dog & 0.6079839782355317 & 0.03804428946050705 & 0.07160775963514394 \\\\\n",
            "\\hline\n",
            "person14 & 0.46496000575154367 & 0.03932417379666435 & 0.07251533486952806 \\\\\n",
            "\\hline\n",
            "person20 & 0.7354407524317961 & 0.7354407524317961 & 0.7354407524317961 \\\\\n",
            "\\hline\n",
            "sitcom & 0.4737476788306932 & 0.03508679506569097 & 0.06533475451336725 \\\\\n",
            "\\hline\n",
            "skiing & 0.6349924673318519 & 0.040637179078787944 & 0.07638593938479223 \\\\\n",
            "\\hline\n",
            "sup & 0.7553635096509317 & 0.6630022939553226 & 0.7061757106599532 \\\\\n",
            "\\hline\n",
            "all & 0.7122115088368645 & 0.28846544878384617 & 0.4106188534892157 \\\\\n",
            "\\hline\n"
          ]
        }
      ]
    }
  ]
}